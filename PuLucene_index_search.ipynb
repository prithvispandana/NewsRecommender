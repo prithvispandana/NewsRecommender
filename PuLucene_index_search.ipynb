{
 "cells": [
  {
   "cell_type": "code",
   "execution_count": null,
   "metadata": {
    "collapsed": true
   },
   "outputs": [],
   "source": [
    "# Common imports:\n",
    "import sys, lucene\n",
    "from os import path, listdir\n",
    "\n",
    "from org.apache.lucene.document import Document, Field, StringField, TextField\n",
    "from org.apache.lucene.util import Version\n",
    "from org.apache.lucene.store import RAMDirectory\n",
    "from datetime import datetime\n",
    "\n",
    "# Indexer imports:\n",
    "from org.apache.lucene.analysis.miscellaneous import LimitTokenCountAnalyzer\n",
    "from org.apache.lucene.analysis.standard import StandardAnalyzer\n",
    "from org.apache.lucene.index import IndexWriter, IndexWriterConfig\n",
    "# from org.apache.lucene.store import SimpleFSDirectory\n",
    "\n",
    "# Retriever imports:\n",
    "from org.apache.lucene.search import IndexSearcher\n",
    "from org.apache.lucene.index import DirectoryReader\n",
    "from org.apache.lucene.queryparser.classic import QueryParser"
   ]
  },
  {
   "cell_type": "code",
   "execution_count": null,
   "metadata": {
    "collapsed": true
   },
   "outputs": [],
   "source": [
    "# ---------------------------- global constants ----------------------------- #\n",
    "\n",
    "\n",
    "INPUT_DIR = \"/Users/karthickmohanasundaram/Desktop/data/\"    \n",
    "input_file = \"/Users/karthickmohanasundaram/Desktop/data/\"\n",
    "path = \"/Users/karthickmohanasundaram/Desktop/data/article-aug-0082.txt\"\n",
    "NoT = 100000 # Number of Tokens\n",
    "\n",
    "\n",
    "# Initialize lucene and the JVM\n",
    "lucene.initVM()\n",
    "\n",
    "\n",
    "\n",
    "# Create a new directory. As a SimpleFSDirectory is rather slow ...\n",
    "directory = RAMDirectory() # ... we'll use a RAMDirectory!\n",
    "\n",
    "# Get and configure an IndexWriter\n",
    "analyzer = StandardAnalyzer(Version.LUCENE_CURRENT)\n",
    "analyzer = LimitTokenCountAnalyzer(analyzer, NoT)\n",
    "config = IndexWriterConfig(Version.LUCENE_CURRENT, analyzer)\n",
    "writer = IndexWriter(directory, config)\n"
   ]
  },
  {
   "cell_type": "code",
   "execution_count": null,
   "metadata": {
    "collapsed": true
   },
   "outputs": [],
   "source": [
    "# --------------------------------------------------------------------------- #\n",
    "\n",
    "print \"------------------------------------------------------\"\n",
    "print \"PyLucene Demo started (lucene_demo.py)\"\n",
    "print \"Python version: %d.%d.%d\" % (sys.version_info.major,\n",
    "                                      sys.version_info.minor,\n",
    "                                      sys.version_info.micro)\n",
    "print 'Lucene version:', lucene.VERSION\n",
    "print \"------------------------------------------------------\\n\"\n",
    "\n",
    "\"\"\"\n",
    "This method returns a document which afterwards can be added to the IndexWriter.\n",
    "\"\"\"\n",
    "\n",
    "def create_document(file_name):\n",
    "    path = INPUT_DIR+file_name\n",
    "    file = open(path) # open in read mode\n",
    "    doc = Document() # create a new document\n",
    "    # add the title field\n",
    "    doc.add(StringField(\"title\", input_file, Field.Store.YES))\n",
    "    # add the whole book\n",
    "    doc.add(TextField(\"text\", file.read(), Field.Store.YES))\n",
    "    file.close() # close the file pointer\n",
    "    return doc\n",
    "\n",
    "print \"Number of indexed documents: %d\\n\" % writer.numDocs()\n",
    "\n",
    "for input_file in listdir(INPUT_DIR): # iterate over all input files\n",
    "    print \"Current file:\", input_file\n",
    "    if input_file.endswith(\".txt\"): # consider only .txt files\n",
    "        doc = create_document(input_file) # call the create_document function\n",
    "        writer.addDocument(doc) # add the document to the IndexWriter\n",
    "\n",
    "print \"\\nNumber of indexed documents: %d\" % writer.numDocs()\n",
    "writer.close()\n",
    "print \"Indexing done!\\n\"\n",
    "print \"------------------------------------------------------\""
   ]
  },
  {
   "cell_type": "code",
   "execution_count": null,
   "metadata": {
    "collapsed": true
   },
   "outputs": [],
   "source": [
    "\n",
    "\"\"\"\n",
    "Asks the user for query strings and will show the corresponding result\n",
    "\"\"\"\n",
    "def search_loop(searcher, analyzer):\n",
    "    while True:\n",
    "        print \"\\nEnter a blank line to quit.\"\n",
    "        command = raw_input(\"Query: \")\n",
    "        if command == '':\n",
    "            return\n",
    "\n",
    "        print\n",
    "        print \"Searching for:\", command\n",
    "        query = QueryParser(Version.LUCENE_CURRENT, \"title\", analyzer).parse(command)\n",
    "        start = datetime.now()\n",
    "        scoreDocs = searcher.search(query, 50).scoreDocs\n",
    "        duration = datetime.now() - start\n",
    "        print \"%s total matching documents in %s:\" % (len(scoreDocs), duration)\n",
    "\n",
    "        for scoreDoc in scoreDocs:\n",
    "            doc = searcher.doc(scoreDoc.doc)\n",
    "            print doc.get(\"title\")#, 'name:', doc.get(\"name\")\n",
    "\n",
    "        print \"\\n------------------------------------------------------\"\n",
    "\n",
    "\n",
    "# Create a searcher for the above defined RAMDirectory\n",
    "searcher = IndexSearcher(DirectoryReader.open(directory))\n",
    "\n",
    "# Create a new retrieving analyzer\n",
    "analyzer = StandardAnalyzer(Version.LUCENE_CURRENT)\n",
    "\n",
    "# ... and start searching!\n",
    "search_loop(searcher, analyzer)\n",
    "\n",
    "# ----------------------------------- EOF ----------------------------------- #\n"
   ]
  },
  {
   "cell_type": "code",
   "execution_count": null,
   "metadata": {
    "collapsed": true
   },
   "outputs": [],
   "source": []
  }
 ],
 "metadata": {
  "kernelspec": {
   "display_name": "Python 2",
   "language": "python",
   "name": "python2"
  },
  "language_info": {
   "codemirror_mode": {
    "name": "ipython",
    "version": 2
   },
   "file_extension": ".py",
   "mimetype": "text/x-python",
   "name": "python",
   "nbconvert_exporter": "python",
   "pygments_lexer": "ipython2",
   "version": "2.7.13"
  }
 },
 "nbformat": 4,
 "nbformat_minor": 2
}
